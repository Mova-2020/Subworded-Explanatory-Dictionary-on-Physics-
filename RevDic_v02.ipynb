{
  "nbformat": 4,
  "nbformat_minor": 0,
  "metadata": {
    "colab": {
      "provenance": [],
      "authorship_tag": "ABX9TyPFE1OgU34qc3ikac5syFhl",
      "include_colab_link": true
    },
    "kernelspec": {
      "name": "python3",
      "display_name": "Python 3"
    },
    "language_info": {
      "name": "python"
    }
  },
  "cells": [
    {
      "cell_type": "markdown",
      "metadata": {
        "id": "view-in-github",
        "colab_type": "text"
      },
      "source": [
        "<a href=\"https://colab.research.google.com/github/Mova-2020/Subworded-Explanatory-Dictionary-on-Physics-/blob/main/RevDic_v02.ipynb\" target=\"_parent\"><img src=\"https://colab.research.google.com/assets/colab-badge.svg\" alt=\"Open In Colab\"/></a>"
      ]
    },
    {
      "cell_type": "code",
      "execution_count": 87,
      "metadata": {
        "colab": {
          "base_uri": "https://localhost:8080/"
        },
        "id": "TOMLaU6Qarsp",
        "outputId": "1aaf440b-5680-4f1b-950e-e3f0101fd9be"
      },
      "outputs": [
        {
          "output_type": "stream",
          "name": "stdout",
          "text": [
            "Requirement already satisfied: transformers in /usr/local/lib/python3.11/dist-packages (4.47.1)\n",
            "Requirement already satisfied: datasets in /usr/local/lib/python3.11/dist-packages (3.2.0)\n",
            "Requirement already satisfied: torch in /usr/local/lib/python3.11/dist-packages (2.5.1+cu121)\n",
            "Requirement already satisfied: filelock in /usr/local/lib/python3.11/dist-packages (from transformers) (3.16.1)\n",
            "Requirement already satisfied: huggingface-hub<1.0,>=0.24.0 in /usr/local/lib/python3.11/dist-packages (from transformers) (0.27.1)\n",
            "Requirement already satisfied: numpy>=1.17 in /usr/local/lib/python3.11/dist-packages (from transformers) (1.26.4)\n",
            "Requirement already satisfied: packaging>=20.0 in /usr/local/lib/python3.11/dist-packages (from transformers) (24.2)\n",
            "Requirement already satisfied: pyyaml>=5.1 in /usr/local/lib/python3.11/dist-packages (from transformers) (6.0.2)\n",
            "Requirement already satisfied: regex!=2019.12.17 in /usr/local/lib/python3.11/dist-packages (from transformers) (2024.11.6)\n",
            "Requirement already satisfied: requests in /usr/local/lib/python3.11/dist-packages (from transformers) (2.32.3)\n",
            "Requirement already satisfied: tokenizers<0.22,>=0.21 in /usr/local/lib/python3.11/dist-packages (from transformers) (0.21.0)\n",
            "Requirement already satisfied: safetensors>=0.4.1 in /usr/local/lib/python3.11/dist-packages (from transformers) (0.5.2)\n",
            "Requirement already satisfied: tqdm>=4.27 in /usr/local/lib/python3.11/dist-packages (from transformers) (4.67.1)\n",
            "Requirement already satisfied: pyarrow>=15.0.0 in /usr/local/lib/python3.11/dist-packages (from datasets) (17.0.0)\n",
            "Requirement already satisfied: dill<0.3.9,>=0.3.0 in /usr/local/lib/python3.11/dist-packages (from datasets) (0.3.8)\n",
            "Requirement already satisfied: pandas in /usr/local/lib/python3.11/dist-packages (from datasets) (2.2.2)\n",
            "Requirement already satisfied: xxhash in /usr/local/lib/python3.11/dist-packages (from datasets) (3.5.0)\n",
            "Requirement already satisfied: multiprocess<0.70.17 in /usr/local/lib/python3.11/dist-packages (from datasets) (0.70.16)\n",
            "Requirement already satisfied: fsspec<=2024.9.0,>=2023.1.0 in /usr/local/lib/python3.11/dist-packages (from fsspec[http]<=2024.9.0,>=2023.1.0->datasets) (2024.9.0)\n",
            "Requirement already satisfied: aiohttp in /usr/local/lib/python3.11/dist-packages (from datasets) (3.11.11)\n",
            "Requirement already satisfied: typing-extensions>=4.8.0 in /usr/local/lib/python3.11/dist-packages (from torch) (4.12.2)\n",
            "Requirement already satisfied: networkx in /usr/local/lib/python3.11/dist-packages (from torch) (3.4.2)\n",
            "Requirement already satisfied: jinja2 in /usr/local/lib/python3.11/dist-packages (from torch) (3.1.5)\n",
            "Requirement already satisfied: nvidia-cuda-nvrtc-cu12==12.1.105 in /usr/local/lib/python3.11/dist-packages (from torch) (12.1.105)\n",
            "Requirement already satisfied: nvidia-cuda-runtime-cu12==12.1.105 in /usr/local/lib/python3.11/dist-packages (from torch) (12.1.105)\n",
            "Requirement already satisfied: nvidia-cuda-cupti-cu12==12.1.105 in /usr/local/lib/python3.11/dist-packages (from torch) (12.1.105)\n",
            "Requirement already satisfied: nvidia-cudnn-cu12==9.1.0.70 in /usr/local/lib/python3.11/dist-packages (from torch) (9.1.0.70)\n",
            "Requirement already satisfied: nvidia-cublas-cu12==12.1.3.1 in /usr/local/lib/python3.11/dist-packages (from torch) (12.1.3.1)\n",
            "Requirement already satisfied: nvidia-cufft-cu12==11.0.2.54 in /usr/local/lib/python3.11/dist-packages (from torch) (11.0.2.54)\n",
            "Requirement already satisfied: nvidia-curand-cu12==10.3.2.106 in /usr/local/lib/python3.11/dist-packages (from torch) (10.3.2.106)\n",
            "Requirement already satisfied: nvidia-cusolver-cu12==11.4.5.107 in /usr/local/lib/python3.11/dist-packages (from torch) (11.4.5.107)\n",
            "Requirement already satisfied: nvidia-cusparse-cu12==12.1.0.106 in /usr/local/lib/python3.11/dist-packages (from torch) (12.1.0.106)\n",
            "Requirement already satisfied: nvidia-nccl-cu12==2.21.5 in /usr/local/lib/python3.11/dist-packages (from torch) (2.21.5)\n",
            "Requirement already satisfied: nvidia-nvtx-cu12==12.1.105 in /usr/local/lib/python3.11/dist-packages (from torch) (12.1.105)\n",
            "Requirement already satisfied: triton==3.1.0 in /usr/local/lib/python3.11/dist-packages (from torch) (3.1.0)\n",
            "Requirement already satisfied: sympy==1.13.1 in /usr/local/lib/python3.11/dist-packages (from torch) (1.13.1)\n",
            "Requirement already satisfied: nvidia-nvjitlink-cu12 in /usr/local/lib/python3.11/dist-packages (from nvidia-cusolver-cu12==11.4.5.107->torch) (12.6.85)\n",
            "Requirement already satisfied: mpmath<1.4,>=1.1.0 in /usr/local/lib/python3.11/dist-packages (from sympy==1.13.1->torch) (1.3.0)\n",
            "Requirement already satisfied: aiohappyeyeballs>=2.3.0 in /usr/local/lib/python3.11/dist-packages (from aiohttp->datasets) (2.4.4)\n",
            "Requirement already satisfied: aiosignal>=1.1.2 in /usr/local/lib/python3.11/dist-packages (from aiohttp->datasets) (1.3.2)\n",
            "Requirement already satisfied: attrs>=17.3.0 in /usr/local/lib/python3.11/dist-packages (from aiohttp->datasets) (24.3.0)\n",
            "Requirement already satisfied: frozenlist>=1.1.1 in /usr/local/lib/python3.11/dist-packages (from aiohttp->datasets) (1.5.0)\n",
            "Requirement already satisfied: multidict<7.0,>=4.5 in /usr/local/lib/python3.11/dist-packages (from aiohttp->datasets) (6.1.0)\n",
            "Requirement already satisfied: propcache>=0.2.0 in /usr/local/lib/python3.11/dist-packages (from aiohttp->datasets) (0.2.1)\n",
            "Requirement already satisfied: yarl<2.0,>=1.17.0 in /usr/local/lib/python3.11/dist-packages (from aiohttp->datasets) (1.18.3)\n",
            "Requirement already satisfied: charset-normalizer<4,>=2 in /usr/local/lib/python3.11/dist-packages (from requests->transformers) (3.4.1)\n",
            "Requirement already satisfied: idna<4,>=2.5 in /usr/local/lib/python3.11/dist-packages (from requests->transformers) (3.10)\n",
            "Requirement already satisfied: urllib3<3,>=1.21.1 in /usr/local/lib/python3.11/dist-packages (from requests->transformers) (2.3.0)\n",
            "Requirement already satisfied: certifi>=2017.4.17 in /usr/local/lib/python3.11/dist-packages (from requests->transformers) (2024.12.14)\n",
            "Requirement already satisfied: MarkupSafe>=2.0 in /usr/local/lib/python3.11/dist-packages (from jinja2->torch) (3.0.2)\n",
            "Requirement already satisfied: python-dateutil>=2.8.2 in /usr/local/lib/python3.11/dist-packages (from pandas->datasets) (2.8.2)\n",
            "Requirement already satisfied: pytz>=2020.1 in /usr/local/lib/python3.11/dist-packages (from pandas->datasets) (2024.2)\n",
            "Requirement already satisfied: tzdata>=2022.7 in /usr/local/lib/python3.11/dist-packages (from pandas->datasets) (2024.2)\n",
            "Requirement already satisfied: six>=1.5 in /usr/local/lib/python3.11/dist-packages (from python-dateutil>=2.8.2->pandas->datasets) (1.17.0)\n"
          ]
        }
      ],
      "source": [
        "from IPython import get_ipython\n",
        "from IPython.display import display\n",
        "\n",
        "!pip install transformers datasets torch"
      ]
    },
    {
      "cell_type": "code",
      "source": [
        "from transformers import GPT2Tokenizer, GPT2LMHeadModel, TrainingArguments, Trainer\n",
        "from datasets import Dataset"
      ],
      "metadata": {
        "id": "GJmjj7-ue3BV"
      },
      "execution_count": 88,
      "outputs": []
    },
    {
      "cell_type": "markdown",
      "source": [
        "Load the subworded text files"
      ],
      "metadata": {
        "id": "xm-fbhT1bIG2"
      }
    },
    {
      "cell_type": "code",
      "source": [
        "def load_subworded_file(file_path):\n",
        "    try:\n",
        "        with open(file_path, 'r', encoding='utf-8') as f:\n",
        "            return [{\"term\": line.split(\" @ \")[0].strip(), \"definition\": line.split(\" @ \")[1].replace(\"^p\", \"\").strip()}\n",
        "                    for line in f if \" @ \" in line]\n",
        "    except FileNotFoundError:\n",
        "        print(f\"Error: File not found: {file_path}\")\n",
        "        return []"
      ],
      "metadata": {
        "id": "_M99-dY1fYg-"
      },
      "execution_count": 89,
      "outputs": []
    },
    {
      "cell_type": "markdown",
      "source": [
        "Uploading files"
      ],
      "metadata": {
        "id": "uThZrJjjfh6u"
      }
    },
    {
      "cell_type": "code",
      "source": [
        "from google.colab import files\n",
        "\n",
        "# Завантажуємо файл\n",
        "uploaded = files.upload()\n",
        "# Check if the file was uploaded successfully\n",
        "if \"fts_dl_ukr_subworded_combined_validation_136.txt\" in uploaded:\n",
        "    print(\"File uploaded successfully!\")\n",
        "else:\n",
        "    print(\"Error: File upload failed.\")"
      ],
      "metadata": {
        "colab": {
          "base_uri": "https://localhost:8080/",
          "height": 214
        },
        "id": "WnTrn2BI9P_D",
        "outputId": "4e89675a-d95b-4e53-c24d-a6003d2b9e03"
      },
      "execution_count": 90,
      "outputs": [
        {
          "output_type": "display_data",
          "data": {
            "text/plain": [
              "<IPython.core.display.HTML object>"
            ],
            "text/html": [
              "\n",
              "     <input type=\"file\" id=\"files-4b78b50b-a55d-4c3e-91aa-035c83e28b5c\" name=\"files[]\" multiple disabled\n",
              "        style=\"border:none\" />\n",
              "     <output id=\"result-4b78b50b-a55d-4c3e-91aa-035c83e28b5c\">\n",
              "      Upload widget is only available when the cell has been executed in the\n",
              "      current browser session. Please rerun this cell to enable.\n",
              "      </output>\n",
              "      <script>// Copyright 2017 Google LLC\n",
              "//\n",
              "// Licensed under the Apache License, Version 2.0 (the \"License\");\n",
              "// you may not use this file except in compliance with the License.\n",
              "// You may obtain a copy of the License at\n",
              "//\n",
              "//      http://www.apache.org/licenses/LICENSE-2.0\n",
              "//\n",
              "// Unless required by applicable law or agreed to in writing, software\n",
              "// distributed under the License is distributed on an \"AS IS\" BASIS,\n",
              "// WITHOUT WARRANTIES OR CONDITIONS OF ANY KIND, either express or implied.\n",
              "// See the License for the specific language governing permissions and\n",
              "// limitations under the License.\n",
              "\n",
              "/**\n",
              " * @fileoverview Helpers for google.colab Python module.\n",
              " */\n",
              "(function(scope) {\n",
              "function span(text, styleAttributes = {}) {\n",
              "  const element = document.createElement('span');\n",
              "  element.textContent = text;\n",
              "  for (const key of Object.keys(styleAttributes)) {\n",
              "    element.style[key] = styleAttributes[key];\n",
              "  }\n",
              "  return element;\n",
              "}\n",
              "\n",
              "// Max number of bytes which will be uploaded at a time.\n",
              "const MAX_PAYLOAD_SIZE = 100 * 1024;\n",
              "\n",
              "function _uploadFiles(inputId, outputId) {\n",
              "  const steps = uploadFilesStep(inputId, outputId);\n",
              "  const outputElement = document.getElementById(outputId);\n",
              "  // Cache steps on the outputElement to make it available for the next call\n",
              "  // to uploadFilesContinue from Python.\n",
              "  outputElement.steps = steps;\n",
              "\n",
              "  return _uploadFilesContinue(outputId);\n",
              "}\n",
              "\n",
              "// This is roughly an async generator (not supported in the browser yet),\n",
              "// where there are multiple asynchronous steps and the Python side is going\n",
              "// to poll for completion of each step.\n",
              "// This uses a Promise to block the python side on completion of each step,\n",
              "// then passes the result of the previous step as the input to the next step.\n",
              "function _uploadFilesContinue(outputId) {\n",
              "  const outputElement = document.getElementById(outputId);\n",
              "  const steps = outputElement.steps;\n",
              "\n",
              "  const next = steps.next(outputElement.lastPromiseValue);\n",
              "  return Promise.resolve(next.value.promise).then((value) => {\n",
              "    // Cache the last promise value to make it available to the next\n",
              "    // step of the generator.\n",
              "    outputElement.lastPromiseValue = value;\n",
              "    return next.value.response;\n",
              "  });\n",
              "}\n",
              "\n",
              "/**\n",
              " * Generator function which is called between each async step of the upload\n",
              " * process.\n",
              " * @param {string} inputId Element ID of the input file picker element.\n",
              " * @param {string} outputId Element ID of the output display.\n",
              " * @return {!Iterable<!Object>} Iterable of next steps.\n",
              " */\n",
              "function* uploadFilesStep(inputId, outputId) {\n",
              "  const inputElement = document.getElementById(inputId);\n",
              "  inputElement.disabled = false;\n",
              "\n",
              "  const outputElement = document.getElementById(outputId);\n",
              "  outputElement.innerHTML = '';\n",
              "\n",
              "  const pickedPromise = new Promise((resolve) => {\n",
              "    inputElement.addEventListener('change', (e) => {\n",
              "      resolve(e.target.files);\n",
              "    });\n",
              "  });\n",
              "\n",
              "  const cancel = document.createElement('button');\n",
              "  inputElement.parentElement.appendChild(cancel);\n",
              "  cancel.textContent = 'Cancel upload';\n",
              "  const cancelPromise = new Promise((resolve) => {\n",
              "    cancel.onclick = () => {\n",
              "      resolve(null);\n",
              "    };\n",
              "  });\n",
              "\n",
              "  // Wait for the user to pick the files.\n",
              "  const files = yield {\n",
              "    promise: Promise.race([pickedPromise, cancelPromise]),\n",
              "    response: {\n",
              "      action: 'starting',\n",
              "    }\n",
              "  };\n",
              "\n",
              "  cancel.remove();\n",
              "\n",
              "  // Disable the input element since further picks are not allowed.\n",
              "  inputElement.disabled = true;\n",
              "\n",
              "  if (!files) {\n",
              "    return {\n",
              "      response: {\n",
              "        action: 'complete',\n",
              "      }\n",
              "    };\n",
              "  }\n",
              "\n",
              "  for (const file of files) {\n",
              "    const li = document.createElement('li');\n",
              "    li.append(span(file.name, {fontWeight: 'bold'}));\n",
              "    li.append(span(\n",
              "        `(${file.type || 'n/a'}) - ${file.size} bytes, ` +\n",
              "        `last modified: ${\n",
              "            file.lastModifiedDate ? file.lastModifiedDate.toLocaleDateString() :\n",
              "                                    'n/a'} - `));\n",
              "    const percent = span('0% done');\n",
              "    li.appendChild(percent);\n",
              "\n",
              "    outputElement.appendChild(li);\n",
              "\n",
              "    const fileDataPromise = new Promise((resolve) => {\n",
              "      const reader = new FileReader();\n",
              "      reader.onload = (e) => {\n",
              "        resolve(e.target.result);\n",
              "      };\n",
              "      reader.readAsArrayBuffer(file);\n",
              "    });\n",
              "    // Wait for the data to be ready.\n",
              "    let fileData = yield {\n",
              "      promise: fileDataPromise,\n",
              "      response: {\n",
              "        action: 'continue',\n",
              "      }\n",
              "    };\n",
              "\n",
              "    // Use a chunked sending to avoid message size limits. See b/62115660.\n",
              "    let position = 0;\n",
              "    do {\n",
              "      const length = Math.min(fileData.byteLength - position, MAX_PAYLOAD_SIZE);\n",
              "      const chunk = new Uint8Array(fileData, position, length);\n",
              "      position += length;\n",
              "\n",
              "      const base64 = btoa(String.fromCharCode.apply(null, chunk));\n",
              "      yield {\n",
              "        response: {\n",
              "          action: 'append',\n",
              "          file: file.name,\n",
              "          data: base64,\n",
              "        },\n",
              "      };\n",
              "\n",
              "      let percentDone = fileData.byteLength === 0 ?\n",
              "          100 :\n",
              "          Math.round((position / fileData.byteLength) * 100);\n",
              "      percent.textContent = `${percentDone}% done`;\n",
              "\n",
              "    } while (position < fileData.byteLength);\n",
              "  }\n",
              "\n",
              "  // All done.\n",
              "  yield {\n",
              "    response: {\n",
              "      action: 'complete',\n",
              "    }\n",
              "  };\n",
              "}\n",
              "\n",
              "scope.google = scope.google || {};\n",
              "scope.google.colab = scope.google.colab || {};\n",
              "scope.google.colab._files = {\n",
              "  _uploadFiles,\n",
              "  _uploadFilesContinue,\n",
              "};\n",
              "})(self);\n",
              "</script> "
            ]
          },
          "metadata": {}
        },
        {
          "output_type": "stream",
          "name": "stdout",
          "text": [
            "Saving fts_dl_ukr_subworded_combined_training.txt to fts_dl_ukr_subworded_combined_training (1).txt\n",
            "Saving fts_dl_ukr_subworded_combined_validation_136.txt to fts_dl_ukr_subworded_combined_validation_136 (2).txt\n",
            "Saving fts_dl_ukr_subworded_simple_training.txt to fts_dl_ukr_subworded_simple_training (1).txt\n",
            "Saving fts_dl_ukr_subworded_simple_validation_136.txt to fts_dl_ukr_subworded_simple_validation_136 (1).txt\n",
            "Error: File upload failed.\n"
          ]
        }
      ]
    },
    {
      "cell_type": "markdown",
      "source": [
        "Load datasets"
      ],
      "metadata": {
        "id": "9uj3IXWJggJU"
      }
    },
    {
      "cell_type": "code",
      "source": [
        "\n",
        "# Load the data using the load_subworded_file function\n",
        "file_combined_training_path = \"/content/fts_dl_ukr_subworded_combined_training.txt\"\n",
        "file_simple_training_path = \"/content/fts_dl_ukr_subworded_simple_training.txt\"\n",
        "file_combined_validation_path = \"/content/fts_dl_ukr_subworded_combined_validation_136.txt\"\n",
        "file_simple_validation_path = \"/content/fts_dl_ukr_subworded_simple_validation_136.txt\"\n",
        "\n"
      ],
      "metadata": {
        "id": "a-Iog9AUgkki"
      },
      "execution_count": 91,
      "outputs": []
    },
    {
      "cell_type": "markdown",
      "source": [
        "Convert data to Hugging Face Dataset objects"
      ],
      "metadata": {
        "id": "0WqxLzU6nEKD"
      }
    },
    {
      "cell_type": "code",
      "source": [
        "from datasets import Dataset\n",
        "\n",
        "data_combined_training = load_subworded_file(file_combined_training_path)\n",
        "data_simple_training = load_subworded_file(file_simple_training_path)\n",
        "data_combined_validation = load_subworded_file(file_combined_validation_path)\n",
        "data_simple_validation = load_subworded_file(file_simple_validation_path)\n",
        "\n",
        "dataset_combined_training = Dataset.from_dict({\"definition\": [d[\"definition\"] for d in data_combined_training], \"term\": [d[\"term\"] for d in data_combined_training]})\n",
        "dataset_simple_training = Dataset.from_dict({\"definition\": [d[\"definition\"] for d in data_simple_training], \"term\": [d[\"term\"] for d in data_simple_training]})\n",
        "dataset_combined_validation = Dataset.from_dict({\"definition\": [d[\"definition\"] for d in data_combined_validation], \"term\": [d[\"term\"] for d in data_combined_validation]})\n",
        "dataset_simple_validation = Dataset.from_dict({\"definition\": [d[\"definition\"] for d in data_simple_validation], \"term\": [d[\"term\"] for d in data_simple_validation]})"
      ],
      "metadata": {
        "id": "a5tEQPRNnE2q"
      },
      "execution_count": 93,
      "outputs": []
    },
    {
      "cell_type": "code",
      "source": [
        "available_models = {\n",
        "    \"GPT-2\": \"gpt2\",\n",
        "    \"GPT-2 Medium\": \"gpt2-medium\",\n",
        "    \"GPT-2 Large\": \"gpt2-large\",\n",
        "    \"GPT-3 Small\": \"EleutherAI/gpt-neo-125M\"  # Example of an alternative model\n",
        "}\n"
      ],
      "metadata": {
        "id": "LaiBpC02hECV"
      },
      "execution_count": 94,
      "outputs": []
    },
    {
      "cell_type": "markdown",
      "source": [
        "Select model and tokenizer"
      ],
      "metadata": {
        "id": "SIeOEWf7hH1d"
      }
    },
    {
      "cell_type": "code",
      "source": [
        "model_name = \"gpt2-large\"  # Change model if necessary\n",
        "tokenizer = GPT2Tokenizer.from_pretrained(model_name)\n",
        "model = GPT2LMHeadModel.from_pretrained(model_name)"
      ],
      "metadata": {
        "id": "tq5sMazAhXW2"
      },
      "execution_count": 95,
      "outputs": []
    },
    {
      "cell_type": "markdown",
      "source": [
        "Add padding token if necessary"
      ],
      "metadata": {
        "id": "qGUVC44dAG84"
      }
    },
    {
      "cell_type": "code",
      "source": [
        "if tokenizer.pad_token is None:\n",
        "    tokenizer.pad_token = tokenizer.eos_token"
      ],
      "metadata": {
        "id": "MeoIX5qLAICw"
      },
      "execution_count": 96,
      "outputs": []
    },
    {
      "cell_type": "markdown",
      "source": [
        "Tokenize the dataset"
      ],
      "metadata": {
        "id": "jlBrvQn5hp53"
      }
    },
    {
      "cell_type": "code",
      "source": [
        "def tokenize_function(examples):\n",
        "    inputs = tokenizer(examples[\"definition\"], padding=\"max_length\", truncation=True, max_length=128)\n",
        "    labels = tokenizer(examples[\"term\"], padding=\"max_length\", truncation=True, max_length=128)\n",
        "    inputs[\"labels\"] = labels[\"input_ids\"]\n",
        "    return inputs"
      ],
      "metadata": {
        "id": "qPkiwtfphrC_"
      },
      "execution_count": 97,
      "outputs": []
    },
    {
      "cell_type": "markdown",
      "source": [
        "Tokenize all datasets"
      ],
      "metadata": {
        "id": "tPcSYFWWh9qs"
      }
    },
    {
      "cell_type": "code",
      "source": [
        "tokenized_combined_training = dataset_combined_training.map(tokenize_function, batched=True)\n",
        "tokenized_simple_training = dataset_simple_training.map(tokenize_function, batched=True)\n",
        "tokenized_combined_validation = dataset_combined_validation.map(tokenize_function, batched=True)\n",
        "tokenized_simple_validation = dataset_simple_validation.map(tokenize_function, batched=True)"
      ],
      "metadata": {
        "id": "1yCp1YAKAlIN"
      },
      "execution_count": 98,
      "outputs": []
    },
    {
      "cell_type": "markdown",
      "source": [
        "Training arguments"
      ],
      "metadata": {
        "id": "c6yJCXn_Av_Y"
      }
    },
    {
      "cell_type": "code",
      "source": [
        "training_args = TrainingArguments(\n",
        "    output_dir=\"./results\",\n",
        "    evaluation_strategy=\"epoch\",\n",
        "    learning_rate=2e-5,\n",
        "    per_device_train_batch_size=16,\n",
        "    num_train_epochs=1000000,\n",
        "    weight_decay=0.01,\n",
        "    save_strategy=\"epoch\",\n",
        "    logging_dir=\"./logs\",\n",
        "    logging_steps=10,\n",
        ")"
      ],
      "metadata": {
        "id": "xqkPpHpRh-Zx"
      },
      "execution_count": 115,
      "outputs": []
    },
    {
      "cell_type": "markdown",
      "source": [
        "Train models"
      ],
      "metadata": {
        "id": "NCFu22C2iBS2"
      }
    },
    {
      "cell_type": "code",
      "source": [
        "\n",
        "def tokenize_function(examples):\n",
        "    inputs = tokenizer(examples[\"definition\"], padding=\"max_length\", truncation=True, max_length=128)\n",
        "    # Separate labels from inputs\n",
        "    labels = tokenizer(examples[\"term\"], padding=\"max_length\", truncation=True, max_length=128)[\"input_ids\"]\n",
        "    # Return as a dictionary with separate keys\n",
        "    return {\"input_ids\": inputs[\"input_ids\"], \"attention_mask\": inputs[\"attention_mask\"], \"labels\": labels}"
      ],
      "metadata": {
        "id": "XDZLAr77iHEE"
      },
      "execution_count": 116,
      "outputs": []
    },
    {
      "cell_type": "markdown",
      "source": [
        "Validation"
      ],
      "metadata": {
        "id": "0i10IVYhiKDt"
      }
    },
    {
      "cell_type": "code",
      "source": [
        "# Load the data using the load_subworded_file function\n",
        "data_combined_training = load_subworded_file(file_combined_training_path)\n",
        "data_simple_training = load_subworded_file(file_simple_training_path)\n",
        "data_combined_validation = load_subworded_file(file_combined_validation_path)\n",
        "data_simple_validation = load_subworded_file(file_simple_validation_path)\n",
        "\n",
        "# Convert data to Hugging Face Dataset objects\n",
        "dataset_combined_training = Dataset.from_dict({\"definition\": [d[\"definition\"] for d in data_combined_training], \"term\": [d[\"term\"] for d in data_combined_training]})\n",
        "dataset_simple_training = Dataset.from_dict({\"definition\": [d[\"definition\"] for d in data_simple_training], \"term\": [d[\"term\"] for d in data_simple_training]})\n",
        "dataset_combined_validation = Dataset.from_dict({\"definition\": [d[\"definition\"] for d in data_combined_validation], \"term\": [d[\"term\"] for d in data_combined_validation]})\n",
        "dataset_simple_validation = Dataset.from_dict({\"definition\": [d[\"definition\"] for d in data_simple_validation], \"term\": [d[\"term\"] for d in data_simple_validation]})\n",
        "\n"
      ],
      "metadata": {
        "collapsed": true,
        "id": "Sxf5QFCbiRIV"
      },
      "execution_count": 117,
      "outputs": []
    },
    {
      "cell_type": "markdown",
      "source": [
        "Generate a term from a definition"
      ],
      "metadata": {
        "id": "ZEQ_2S_hiWP0"
      }
    },
    {
      "cell_type": "code",
      "source": [
        "def generate_term(definition, tokenizer, model, max_length=256): # Increased max_length\n",
        "    inputs = tokenizer(definition, return_tensors=\"pt\", max_length=128, truncation=True)\n",
        "    outputs = model.generate(**inputs, max_length=max_length, num_return_sequences=1, temperature=0.9)\n",
        "    return tokenizer.decode(outputs[0], skip_special_tokens=True)"
      ],
      "metadata": {
        "id": "mLZiyoyLiZJ0"
      },
      "execution_count": 110,
      "outputs": []
    },
    {
      "cell_type": "markdown",
      "source": [
        "Setting validation model"
      ],
      "metadata": {
        "id": "UKIC1NPlBrZ3"
      }
    },
    {
      "cell_type": "code",
      "source": [
        "def validate_model(definitions, terms, tokenizer, model):\n",
        "    #  Calculates the accuracy of the model by comparing generated terms with actual terms.\n",
        "\n",
        "#    Args:\n",
        "#       definitions: A list of definitions.\n",
        "#      terms: A list of corresponding terms.\n",
        "#     tokenizer: The tokenizer used for the model.\n",
        "#        model: The language model.\n",
        "\n",
        "#    Returns:\n",
        "#        The accuracy of the model (number of correct predictions / total number of predictions).\n",
        "\n",
        "    correct_predictions = 0\n",
        "    total_predictions = len(definitions)\n",
        "\n",
        "    for definition, term in zip(definitions, terms):\n",
        "        generated_term = generate_term(definition, tokenizer, model)\n",
        "        print(f\"Definition: {definition}\")\n",
        "        print(f\"Actual Term: {term}\")  # Corrected indentation\n",
        "        print(f\"Generated Term: {generated_term}\")  # Corrected indentation\n",
        "        print(\"-\" * 20)  # Separator\n",
        "\n",
        "        if generated_term == term:\n",
        "            correct_predictions += 1\n",
        "\n",
        "    accuracy = correct_predictions / total_predictions if total_predictions else 0  # Avoid division by zero\n",
        "    return accuracy"
      ],
      "metadata": {
        "id": "eHp0WY532nX8"
      },
      "execution_count": 118,
      "outputs": []
    },
    {
      "cell_type": "markdown",
      "source": [
        "Run validation"
      ],
      "metadata": {
        "id": "tTj4whJk213y"
      }
    },
    {
      "cell_type": "code",
      "source": [
        "accuracy_combined = validate_model(\n",
        "    dataset_combined_validation[\"definition\"], dataset_combined_validation[\"term\"], tokenizer, model\n",
        ")\n",
        "accuracy_simple = validate_model(\n",
        "    dataset_simple_validation[\"definition\"], dataset_simple_validation[\"term\"], tokenizer, model\n",
        ")\n",
        "\n",
        "print(f\"Validation accuracy for combined dataset: {accuracy_combined:.2%}\")\n",
        "print(f\"Validation accuracy for simple dataset: {accuracy_simple:.2%}\")\n"
      ],
      "metadata": {
        "colab": {
          "base_uri": "https://localhost:8080/"
        },
        "id": "av-IGSOyBscf",
        "outputId": "cca3c79e-5db9-4264-cfdf-a062b7308bf0"
      },
      "execution_count": 119,
      "outputs": [
        {
          "output_type": "stream",
          "name": "stdout",
          "text": [
            "Validation accuracy for combined dataset: 0.00%\n",
            "Validation accuracy for simple dataset: 0.00%\n"
          ]
        }
      ]
    },
    {
      "cell_type": "markdown",
      "source": [
        "Compare generated terms for dataset_combined and dataset_simple"
      ],
      "metadata": {
        "id": "u4Zuo7gai1uN"
      }
    },
    {
      "cell_type": "code",
      "source": [
        "definition_combined = \"&один& &із& &вид&ів& &абер&аці&й& &зображ&ення& &3&-&г&о& &порядк&у&, &за& &як&ої& &точк&а&, &що& &лежить& &на& &опт&ичн&ій& &ос&і&, &зображ&а&ється& &на& &екран&і&, &перпендикулярн&ому& &до& &опт&ичн&ої& &ос&і&, &у& &ви&гляд&і& &плям&и& &роз&с&i&яння& &кругл&ої& &форм&и& &з& &роз&поділ&ом& &освітл&ен&ос&т&i&, &що& &за&лежить& &від& &полож&ення& &екран&а&. &Ц&ю& &абер&аці&ю& &з&менш&у&ють& &ком&б&i&на&ц&іє&ю& &додатн&ої& &та& &від'&ємн&ої& &лінз& &зі& &спец&і&альн&о& &роз&рах&ован&ими& &раді&ус&ами& &кривизн&и& &заламлюва&льн&их& &поверх&онь&\"\n",
        "definition_simple = \"&один& &із& &вид&ів& &абер&аці&й& &зображ&ення& &3&-&г&о& &порядк&у&, &за& &як&ої& &точк&а&, &що& &лежить& &на& &опт&ичн&ій& &ос&і&, &зображ&а&ється& &на& &екран&і&, &перпендикулярн&ому& &до& &опт&ичн&ої& &ос&і&, &у& &ви&гляд&і& &плям&и& &роз&с&i&яння& &кругл&ої& &форм&и& &з& &роз&поділ&ом& &освітл&ен&ос&т&i&, &що& &за&лежить& &від& &полож&ення& &екран&а&. &Ц&ю& &абер&аці&ю& &з&менш&у&ють& &ком&б&i&на&ц&іє&ю& &додатн&ої& &та& &від'&ємн&ої& &лінз& &зі& &спец&і&альн&о& &роз&рах&ован&ими& &раді&ус&ами& &кривизн&и& &заламлюва&льн&их& &поверх&онь&\""
      ],
      "metadata": {
        "id": "opqS1Jzli3g8"
      },
      "execution_count": 113,
      "outputs": []
    },
    {
      "cell_type": "code",
      "source": [
        "print(\"Generated term from subworded combined file: \", generate_term(definition_combined, tokenizer, model))\n",
        "print(\"Generated term from subworded simple file: \", generate_term(definition_simple, tokenizer, model))"
      ],
      "metadata": {
        "colab": {
          "base_uri": "https://localhost:8080/"
        },
        "id": "gFXd-8Jji7Wk",
        "outputId": "40fd7ab4-4aed-4822-b839-95b8cfac390b"
      },
      "execution_count": 114,
      "outputs": [
        {
          "output_type": "stream",
          "name": "stderr",
          "text": [
            "Setting `pad_token_id` to `eos_token_id`:50256 for open-end generation.\n",
            "Setting `pad_token_id` to `eos_token_id`:50256 for open-end generation.\n"
          ]
        },
        {
          "output_type": "stream",
          "name": "stdout",
          "text": [
            "Generated term from subworded combined file:  &один& &із& &вид&ів& &абер&аці&й& &зображ&ення& &3&-&г&о& &порядк&у&, &за& &як&ої& &точк&а&, &що& &лежить& &на& &опт&ичн&із& &вид&ів& &абер&аці&й& &зображ&ення& &3&-&г&о& &порядк&у&, &за& &як&ої& &точк&а&, &що& &лежить& &на& &опт&ичн&із& &вид&ів\n",
            "Generated term from subworded simple file:  &один& &із& &вид&ів& &абер&аці&й& &зображ&ення& &3&-&г&о& &порядк&у&, &за& &як&ої& &точк&а&, &що& &лежить& &на& &опт&ичн&із& &вид&ів& &абер&аці&й& &зображ&ення& &3&-&г&о& &порядк&у&, &за& &як&ої& &точк&а&, &що& &лежить& &на& &опт&ичн&із& &вид&ів\n"
          ]
        }
      ]
    }
  ]
}